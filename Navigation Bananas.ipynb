{
 "cells": [
  {
   "cell_type": "markdown",
   "metadata": {},
   "source": [
    "# Navigation\n",
    "\n",
    "---\n",
    "\n",
    "You are welcome to use this coding environment to train your agent for the project.  Follow the instructions below to get started!\n",
    "\n",
    "### 1. Start the Environment\n",
    "\n",
    "Run the next code cell to install a few packages.  This line will take a few minutes to run!"
   ]
  },
  {
   "cell_type": "code",
   "execution_count": 1,
   "metadata": {},
   "outputs": [
    {
     "name": "stdout",
     "output_type": "stream",
     "text": [
      "\u001b[31mtensorflow 1.7.1 has requirement numpy>=1.13.3, but you'll have numpy 1.12.1 which is incompatible.\u001b[0m\r\n",
      "\u001b[31mipython 6.5.0 has requirement prompt-toolkit<2.0.0,>=1.0.15, but you'll have prompt-toolkit 2.0.9 which is incompatible.\u001b[0m\r\n"
     ]
    }
   ],
   "source": [
    "!pip -q install ./python"
   ]
  },
  {
   "cell_type": "markdown",
   "metadata": {},
   "source": [
    "The environment is already saved in the Workspace and can be accessed at the file path provided below.  Please run the next code cell without making any changes."
   ]
  },
  {
   "cell_type": "code",
   "execution_count": 2,
   "metadata": {},
   "outputs": [
    {
     "name": "stderr",
     "output_type": "stream",
     "text": [
      "INFO:unityagents:\n",
      "'Academy' started successfully!\n",
      "Unity Academy name: Academy\n",
      "        Number of Brains: 1\n",
      "        Number of External Brains : 1\n",
      "        Lesson number : 0\n",
      "        Reset Parameters :\n",
      "\t\t\n",
      "Unity brain name: BananaBrain\n",
      "        Number of Visual Observations (per agent): 0\n",
      "        Vector Observation space type: continuous\n",
      "        Vector Observation space size (per agent): 37\n",
      "        Number of stacked Vector Observation: 1\n",
      "        Vector Action space type: discrete\n",
      "        Vector Action space size (per agent): 4\n",
      "        Vector Action descriptions: , , , \n"
     ]
    }
   ],
   "source": [
    "from unityagents import UnityEnvironment\n",
    "import numpy as np\n",
    "\n",
    "# please do not modify the line below\n",
    "env = UnityEnvironment(file_name=\"/data/Banana_Linux_NoVis/Banana.x86_64\")"
   ]
  },
  {
   "cell_type": "markdown",
   "metadata": {},
   "source": [
    "Environments contain **_brains_** which are responsible for deciding the actions of their associated agents. Here we check for the first brain available, and set it as the default brain we will be controlling from Python."
   ]
  },
  {
   "cell_type": "code",
   "execution_count": 3,
   "metadata": {},
   "outputs": [],
   "source": [
    "# get the default brain\n",
    "brain_name = env.brain_names[0]\n",
    "brain = env.brains[brain_name]"
   ]
  },
  {
   "cell_type": "code",
   "execution_count": 4,
   "metadata": {},
   "outputs": [
    {
     "data": {
      "text/plain": [
       "<unityagents.brain.BrainParameters at 0x7f8d069064a8>"
      ]
     },
     "execution_count": 4,
     "metadata": {},
     "output_type": "execute_result"
    }
   ],
   "source": [
    "brain"
   ]
  },
  {
   "cell_type": "markdown",
   "metadata": {},
   "source": [
    "### 2. Examine the State and Action Spaces\n",
    "\n",
    "Run the code cell below to print some information about the environment."
   ]
  },
  {
   "cell_type": "code",
   "execution_count": 5,
   "metadata": {},
   "outputs": [
    {
     "name": "stdout",
     "output_type": "stream",
     "text": [
      "Number of agents: 1\n",
      "Number of actions: 4\n",
      "States look like: [ 1.          0.          0.          0.          0.84408134  0.          0.\n",
      "  1.          0.          0.0748472   0.          1.          0.          0.\n",
      "  0.25755     1.          0.          0.          0.          0.74177343\n",
      "  0.          1.          0.          0.          0.25854847  0.          0.\n",
      "  1.          0.          0.09355672  0.          1.          0.          0.\n",
      "  0.31969345  0.          0.        ]\n",
      "States have length: 37\n"
     ]
    }
   ],
   "source": [
    "# reset the environment\n",
    "env_info = env.reset(train_mode=True)[brain_name]\n",
    "\n",
    "# number of agents in the environment\n",
    "print('Number of agents:', len(env_info.agents))\n",
    "\n",
    "# number of actions\n",
    "action_size = brain.vector_action_space_size\n",
    "print('Number of actions:', action_size)\n",
    "\n",
    "# examine the state space \n",
    "state = env_info.vector_observations[0]\n",
    "print('States look like:', state)\n",
    "state_size = len(state)\n",
    "print('States have length:', state_size)"
   ]
  },
  {
   "cell_type": "code",
   "execution_count": null,
   "metadata": {},
   "outputs": [],
   "source": []
  },
  {
   "cell_type": "markdown",
   "metadata": {},
   "source": [
    "### 3. Take Random Actions in the Environment\n",
    "\n",
    "In the next code cell, you will learn how to use the Python API to control the agent and receive feedback from the environment.\n",
    "\n",
    "Note that **in this coding environment, you will not be able to watch the agent while it is training**, and you should set `train_mode=True` to restart the environment."
   ]
  },
  {
   "cell_type": "code",
   "execution_count": 6,
   "metadata": {},
   "outputs": [
    {
     "name": "stdout",
     "output_type": "stream",
     "text": [
      "Score: 1.0\n"
     ]
    }
   ],
   "source": [
    "env_info = env.reset(train_mode=True)[brain_name] # reset the environment\n",
    "state = env_info.vector_observations[0]            # get the current state\n",
    "score = 0                                          # initialize the score\n",
    "while True:\n",
    "    action = np.random.randint(action_size)        # select an action\n",
    "    env_info = env.step(action)[brain_name]        # send the action to the environment\n",
    "    next_state = env_info.vector_observations[0]   # get the next state\n",
    "    reward = env_info.rewards[0]                   # get the reward\n",
    "    done = env_info.local_done[0]                  # see if episode has finished\n",
    "    score += reward                                # update the score\n",
    "    state = next_state                             # roll over the state to next time step\n",
    "    if done:                                       # exit loop if episode finished\n",
    "        break\n",
    "    \n",
    "print(\"Score: {}\".format(score))"
   ]
  },
  {
   "cell_type": "markdown",
   "metadata": {},
   "source": [
    "When finished, you can close the environment."
   ]
  },
  {
   "cell_type": "code",
   "execution_count": 8,
   "metadata": {},
   "outputs": [],
   "source": [
    "#env.close()"
   ]
  },
  {
   "cell_type": "markdown",
   "metadata": {},
   "source": [
    "### 4. It's Your Turn!\n",
    "\n",
    "Now it's your turn to train your own agent to solve the environment!  A few **important notes**:\n",
    "- When training the environment, set `train_mode=True`, so that the line for resetting the environment looks like the following:\n",
    "```python\n",
    "env_info = env.reset(train_mode=True)[brain_name]\n",
    "```\n",
    "- To structure your work, you're welcome to work directly in this Jupyter notebook, or you might like to start over with a new file!  You can see the list of files in the workspace by clicking on **_Jupyter_** in the top left corner of the notebook.\n",
    "- In this coding environment, you will not be able to watch the agent while it is training.  However, **_after training the agent_**, you can download the saved model weights to watch the agent on your own machine! "
   ]
  },
  {
   "cell_type": "code",
   "execution_count": 9,
   "metadata": {},
   "outputs": [],
   "source": [
    "from collections import deque\n",
    "import matplotlib.pyplot as plt\n",
    "%matplotlib inline"
   ]
  },
  {
   "cell_type": "code",
   "execution_count": 10,
   "metadata": {},
   "outputs": [],
   "source": [
    "import torch\n",
    "import torch.nn as nn\n",
    "import torch.nn.functional as F\n",
    "import math\n",
    "from torch.autograd import Variable\n",
    "\n",
    "class NoisyLinear(nn.Module):\n",
    "    def __init__(self, in_features, out_features, init_std =0.4):\n",
    "        super(NoisyLinear, self).__init__()\n",
    "        self.in_features = in_features\n",
    "        self.out_features = out_features\n",
    "        self.init_std = init_std\n",
    "        self.training = True ## set this to false in the act method after the training is over\n",
    "\n",
    "        self.weight_mu = nn.Parameter(torch.FloatTensor(out_features, in_features))\n",
    "        self.weight_sigma = nn.Parameter(torch.FloatTensor(out_features, in_features))\n",
    "        ## Adding noise to weight that will not be trained\n",
    "        self.register_buffer('weight_epsilon',torch.FloatTensor(out_features, in_features) )\n",
    "\n",
    "        self.bias_mu = nn.Parameter(torch.FloatTensor(out_features))\n",
    "        self.bias_sigma = nn.Parameter(torch.FloatTensor(out_features))\n",
    "        ## Adding noise to bias that will not be trained\n",
    "        self.register_buffer('bias_epsilon',torch.FloatTensor(out_features) )   \n",
    "\n",
    "        self.reset_parameter()  ##reset mu and sigma\n",
    "        self.reset_noise()      ##reset epsilon\n",
    "    \n",
    "    def forward(self,X):\n",
    "        if self.training:\n",
    "            weight = self.weight_mu + self.weight_sigma.mul(Variable(self.weight_epsilon))\n",
    "            bias = self.bias_mu + self.bias_sigma.mul(Variable(self.bias_epsilon))\n",
    "        else:\n",
    "            weight = self.weight_mu + self.weight_sigma\n",
    "            bias = self.bias_mu + self.bias_sigma\n",
    "\n",
    "        return F.linear(X, weight, bias)\n",
    "  \n",
    "    def reset_parameter(self):\n",
    "        '''\n",
    "        Initialize mu and sigma for weight and bias\n",
    "        '''\n",
    "        mu_range = 1/math.sqrt(self.in_features)\n",
    "        self.weight_mu.data.uniform_(-mu_range, mu_range)\n",
    "        self.bias_mu.data.uniform_(-mu_range, mu_range)\n",
    "\n",
    "        self.weight_sigma.data.fill_(self.init_std*mu_range)\n",
    "        self.bias_sigma.data.fill_(self.init_std*mu_range)\n",
    "    \n",
    "    def reset_noise(self):\n",
    "        '''\n",
    "        Generate noise for epsilon.\n",
    "        These noise weights are not trainable by the model\n",
    "        '''\n",
    "        epsilon_out  = self.scale_noise(self.out_features)\n",
    "        epsilon_in   = self.scale_noise(self.in_features)\n",
    "\n",
    "        ##.ger() gives the matrix out of 2 vector numtiplication\n",
    "        ## epsilon_out is out*1 \n",
    "        ## epsilon_in is in*1\n",
    "        ## the out of .ger() is out*in\n",
    "        self.weight_epsilon.copy_(epsilon_out.ger(epsilon_in))\n",
    "\n",
    "        ## dont use the same random value for bias.\n",
    "        ## call scale_coise once again for bias\n",
    "        self.bias_epsilon.copy_(self.scale_noise(self.out_features))\n",
    "    \n",
    "    \n",
    "    def scale_noise(self, size):\n",
    "        '''\n",
    "        Gives the noise output of a particular size after scaling\n",
    "        '''\n",
    "\n",
    "\n",
    "        X = torch.randn(size)\n",
    "        X = X.sign().mul(X.abs().sqrt())\n",
    "        return X"
   ]
  },
  {
   "cell_type": "code",
   "execution_count": 11,
   "metadata": {},
   "outputs": [],
   "source": [
    "##Network\n",
    "\n",
    "\n",
    "class QNetwork(nn.Module):\n",
    "    \"\"\"Network Model.\"\"\"\n",
    "    def __init__(self, state_size, action_size, seed,fc1_size =64, fc2_size=128):\n",
    "    ##def __init__(self, state_size, action_size, seed,fc1_size =256, fc2_size=512):\n",
    "        '''\n",
    "        Initialize Parameters\n",
    "        '''\n",
    "        super(QNetwork, self).__init__()\n",
    "        self.state_size = state_size\n",
    "        self.action_size = action_size\n",
    "        self.seed = torch.manual_seed(seed)\n",
    "        self.FC1_size = fc1_size\n",
    "        self.FC2_size = fc2_size\n",
    "        self.FC1 = nn.Linear(self.state_size, self.FC1_size)\n",
    "        self.FC2 = nn.Linear(self.FC1_size, self.FC2_size)\n",
    "        ##Kaustav\n",
    "        ##self.FC3 = nn.Linear(self.FC2_size, self.FC2_size*2)\n",
    "        ##Kaustav\n",
    "        \n",
    "        #self.FC2 = nn.Linear(self.FC1_size, self.FC2_size)\n",
    "        #self.FC3 = nn.Linear(self.FC2_size, self.action_size)\n",
    "\n",
    "        #self.noisy1 = NoisyLinear(self.FC1_size,self.FC2_size)\n",
    "        #self.noisy2 = NoisyLinear(self.FC2_size,action_size)\n",
    "\n",
    "\n",
    "        ##Noisy DQN and Dueling DQN\n",
    "        self.noisy_advantage1 =     NoisyLinear(self.FC2_size,self.FC2_size)\n",
    "        self.noisy_advantage2 =     NoisyLinear(self.FC2_size,action_size)\n",
    "        ##Noisy DQN and Dueling DQN\n",
    "        self.noisy_value1 =     NoisyLinear(self.FC2_size,self.FC2_size)\n",
    "        self.noisy_value2 =     NoisyLinear(self.FC2_size,1)\n",
    "                               \n",
    "    \n",
    "  \n",
    "    def forward(self, state):\n",
    "        \"\"\"\n",
    "        Build a network that maps state -> action values.\n",
    "        \"\"\"\n",
    "        #x = F.relu(self.FC1(state))\n",
    "        #x = F.relu(self.noisy1(x))\n",
    "        #x = self.noisy2(x)\n",
    "\n",
    "        x = F.relu(self.FC1(state))\n",
    "        x = F.relu(self.FC2(x))\n",
    "        ##x = F.relu(self.FC3(x))\n",
    "\n",
    "        #advantage\n",
    "        advantage = F.relu(self.noisy_advantage1(x))\n",
    "        advantage = self.noisy_advantage2(x)\n",
    "        #value\n",
    "        value = F.relu(self.noisy_value1(x))\n",
    "        value = self.noisy_value2(x)\n",
    "\n",
    "        ##Dueling DQN\n",
    "        x = value + advantage - advantage.mean()\n",
    "\n",
    "        return x\n",
    "\n",
    "    def reset_noise(self):\n",
    "    \n",
    "        self.noisy_value1.reset_noise()\n",
    "        self.noisy_value2.reset_noise()\n",
    "\n",
    "        self.noisy_advantage1.reset_noise()\n",
    "        self.noisy_advantage2.reset_noise()"
   ]
  },
  {
   "cell_type": "code",
   "execution_count": 12,
   "metadata": {},
   "outputs": [],
   "source": [
    "import numpy as np\n",
    "import random\n",
    "from collections import namedtuple, deque\n",
    "\n",
    "import torch.optim as optim\n",
    "\n",
    "##HYPERPARAMETERS\n",
    "\n",
    "BUFFER_SIZE = int(1e5)  ##replay buffer size\n",
    "BATCH_SIZE  = 128       ##minibatch size\n",
    "GAMMA  = .99            ##discount factor\n",
    "TAU = 1e-3              # for soft update of target parameters\n",
    "LR = 5e-4               # learning rate\n",
    "##LR = 1e-4  \n",
    "#LR = 1e-5  \n",
    "\n",
    "UPDATE_EVERY = 4        ## how often local network gets copied to target network\n",
    "\n",
    "if torch.cuda.is_available():\n",
    "    device = torch.device(\"cuda\")\n",
    "else:\n",
    "    device = torch.device(\"cpu\")"
   ]
  },
  {
   "cell_type": "code",
   "execution_count": 13,
   "metadata": {},
   "outputs": [],
   "source": [
    "## Define the Replay Buffer ( Deque)\n",
    "\n",
    "class ReplayBuffer:\n",
    "    \"\"\"\n",
    "    Fixed-size buffer to store experience tuples.\n",
    "    \"\"\"\n",
    "    def __init__(self,action_size, buffer_size, batch_size, seed):\n",
    "        self.seed = random.seed(seed)\n",
    "        self.buffer_size = buffer_size\n",
    "        self.batch_size = batch_size\n",
    "        self.action_size = action_size\n",
    "\n",
    "\n",
    "        self.experience = namedtuple(\"Experience\", field_names =[\"state\", \"actions\",\"rewards\",\"next_state\", \"done\"])\n",
    "        self.memory = deque(maxlen= buffer_size)\n",
    "    \n",
    "    def add(self, state, action,rewards, next_state, done):\n",
    "\n",
    "        experience = self.experience(state, action,rewards,next_state, done)\n",
    "        self.memory.append(experience)\n",
    "      \n",
    "    def sample(self):\n",
    "        '''\n",
    "        Randomly sample a batch from experience\n",
    "        '''\n",
    "\n",
    "        experiences = random.sample(self.memory,k = self.batch_size)\n",
    "\n",
    "        state = torch.from_numpy(np.vstack([e.state for e in experiences if e is not None])).float().to(device)\n",
    "        actions = torch.from_numpy(np.vstack([e.actions for e in experiences if e is not None])).long().to(device)  ## dont change to float\n",
    "        rewards = torch.from_numpy(np.vstack([e.rewards for e in experiences if e is not None])).float().to(device)\n",
    "        next_state = torch.from_numpy(np.vstack([e.next_state for e in experiences if e is not None])).float().to(device)\n",
    "        done = torch.from_numpy(np.vstack([e.done for e in experiences if e is not None])).float().to(device)\n",
    "\n",
    "        return state,actions, rewards, next_state, done\n",
    "    def __len__(self):\n",
    "        \"\"\"\n",
    "        Return the current size of internal memory.\n",
    "        \"\"\"\n",
    "        return len(self.memory)\n",
    "  \n",
    "\n",
    "    \n"
   ]
  },
  {
   "cell_type": "code",
   "execution_count": 14,
   "metadata": {},
   "outputs": [],
   "source": [
    "## Define the Agent\n",
    "\n",
    "class Agent():\n",
    "    '''\n",
    "    Interacts with and learns from the environment.\n",
    "    '''\n",
    "    def __init__(self,state_size,action_size, seed,batch_size= BATCH_SIZE,buffer_size= BUFFER_SIZE,lr=LR , gamma= GAMMA ):\n",
    "\n",
    "        self.state_size = state_size\n",
    "        self.action_size = action_size\n",
    "        self.buffer_size = buffer_size\n",
    "        self.batch_size = batch_size\n",
    "        self.lr = lr\n",
    "        self.gamma = gamma\n",
    "\n",
    "        self.seed = random.seed(seed)\n",
    "\n",
    "        # Q-Network\n",
    "        self.qnetwork_local =  QNetwork(self.state_size, self.action_size, seed).to(device)\n",
    "        self.qnetwork_target = QNetwork(self.state_size , self.action_size, seed).to(device)\n",
    "        self.optimizer = optim.Adam(self.qnetwork_local.parameters(),lr= self.lr)\n",
    "        self.criterion = nn.MSELoss()\n",
    "        \n",
    "        for param in self.qnetwork_target.parameters():\n",
    "            param.requires_grad = False\n",
    "\n",
    "        # Replay memory\n",
    "        self.memory = ReplayBuffer(action_size, buffer_size, batch_size, seed)\n",
    "        # Initialize time step (for updating every UPDATE_EVERY steps)\n",
    "        self.t_step = 0\n",
    "  \n",
    "  \n",
    "    def step(self,state,actions,rewards, next_state,done):\n",
    "        self.memory.add(state,actions,rewards, next_state,done)\n",
    "        self.t_step =(self.t_step + 1)% UPDATE_EVERY\n",
    "        ## dont learn whenever 1 batch is added.\n",
    "        ##Rather wait for UPDATE_EVERY batch to be added before we call learn once\n",
    "        if self.t_step==0:\n",
    "            if len(self.memory)> self.batch_size:\n",
    "                experiences = self.memory.sample()\n",
    "                self.learn(experiences, self.gamma)\n",
    "    \n",
    "    def learn(self,experiences, gamma):\n",
    "        \"\"\"\n",
    "        Update value parameters using given batch of experience tuples.\n",
    "        \"\"\"\n",
    "        state, actions, rewards,next_state, done = experiences \n",
    "        #target_q = self.qnetwork_target(next_state).detach()\n",
    "        #target_values = rewards + gamma*torch.max(target_q, 1)[0].unsqueeze(1)*(1-done)\n",
    "        #current_values= self.qnetwork_local(state).gather(1, actions)\n",
    "\n",
    "        #Double DQN\n",
    "        current_values= self.qnetwork_local(state).gather(1, actions)\n",
    "        target_q = self.qnetwork_local(next_state)\n",
    "        target_q = torch.max(target_q, 1)[1].unsqueeze(1)\n",
    "        target_values = rewards + gamma*self.qnetwork_target(next_state).gather(1, target_q)*(1-done)\n",
    "\n",
    "\n",
    "        # Compute loss\n",
    "        loss = self.criterion(current_values,target_values)\n",
    "\n",
    "\n",
    "        ##optimization step\n",
    "        self.optimizer.zero_grad()\n",
    "        loss.backward()\n",
    "        self.optimizer.step()\n",
    "\n",
    "        # ----- Update the target network -----\n",
    "        if self.t_step==0:\n",
    "          ## when it comes here self.t_step will always be 0 anyways. \n",
    "          ## So you may remove this if condition\n",
    "            self.soft_update(self.qnetwork_local, self.qnetwork_target,TAU)\n",
    "\n",
    "        ##Noisy DQN\n",
    "        self.qnetwork_local.reset_noise()\n",
    "        self.qnetwork_target.reset_noise()\n",
    "    \n",
    "    def soft_update(self, qnetwork_local, qnetwork_target,tau):\n",
    "        '''\n",
    "        Update the target Q Network\n",
    "        '''\n",
    "        for local_parms, target_parms in zip(qnetwork_local.parameters(), qnetwork_target.parameters()):\n",
    "            target_parms.data.copy_(tau*local_parms.data + (1.0 -tau)*target_parms.data)\n",
    "        \n",
    "        \n",
    "    def act(self, state, epsilon =0.0):\n",
    "\n",
    "        \"\"\"\n",
    "        Returns actions for given state as per current policy.\n",
    "        \"\"\"\n",
    "        state = torch.from_numpy(state).float().unsqueeze(0).to(device)\n",
    "\n",
    "        self.qnetwork_local.eval()\n",
    "        with torch.no_grad():\n",
    "            actions_values = self.qnetwork_local(state)\n",
    "\n",
    "        ##Back to train mode\n",
    "        self.qnetwork_local.train()\n",
    "\n",
    "        # Epsilon-greedy action selection\n",
    "\n",
    "        if random.random() > epsilon:\n",
    "            return np.argmax(actions_values.cpu().data.numpy())\n",
    "        else:\n",
    "            return np.random.choice(np.arange(self.action_size))\n",
    "      \n",
    "    "
   ]
  },
  {
   "cell_type": "code",
   "execution_count": 15,
   "metadata": {},
   "outputs": [],
   "source": [
    "def dqn(n_episodes = 2000, max_t = 1000, eps_start = 1.0, eps_end = .01, eps_decay= .995,\n",
    "        beta_start=0.4,beta_frames= 1000, trained_score=16):\n",
    "    '''\n",
    "    Train the network\n",
    "    Please ignore beta_start and beta_frames parameters as of now\n",
    "    '''\n",
    "    scores =[]\n",
    "    scores_window = deque(maxlen = 100)\n",
    "    eps = eps_start\n",
    "    for episode in range(1,n_episodes+1):\n",
    "        #print(episode)\n",
    "        score = 0\n",
    "        ##beta= min(1.0, beta_start  + episode*(1- beta_start)/beta_frames )\n",
    "        ##reset the environment\n",
    "        env_info = env.reset(train_mode=True)[brain_name] \n",
    "        state = env_info.vector_observations[0] \n",
    "        for t in range(max_t):\n",
    "            action = agent.act(state, eps)\n",
    "            env_info = env.step(action)[brain_name]\n",
    "            next_state = env_info.vector_observations[0]\n",
    "            rewards = env_info.rewards[0]\n",
    "            #done = env_info.local_done[0]\n",
    "            #convert done from bool to float\n",
    "            #\n",
    "            if env_info.local_done[0]:\n",
    "                done =1\n",
    "            else:\n",
    "                done =0\n",
    "            ##agent.step(state, action,rewards,next_state ,  done,beta )\n",
    "            agent.step(state, action,rewards,next_state ,  done )\n",
    "            state = next_state\n",
    "            \n",
    "            score += rewards\n",
    "            if  done:\n",
    "                break\n",
    "\n",
    "        scores.append(score)\n",
    "        scores_window.append(score)\n",
    "        eps = max(eps_end, eps*eps_decay)  ## reduce randomness epsilon as we learn\n",
    "        print('\\rEpisode {}\\tAverage Score: {:.2f}'.format(episode, np.mean(scores_window)), end=\"\")\n",
    "        if episode % 100 == 0:\n",
    "            print('\\rEpisode {}\\tAverage Score: {:.2f}'.format(episode, np.mean(scores_window)))\n",
    "        ##if np.mean(scores_window)>=200.0:\n",
    "        if np.mean(scores_window)>=trained_score:\n",
    "            print('\\nEnvironment solved in {:d} episodes!\\tAverage Score: {:.2f}'.format(episode-100, np.mean(scores_window)))\n",
    "            torch.save(agent.qnetwork_local.state_dict(), 'checkpoint.pth')\n",
    "            break\n",
    "            \n",
    "    return scores"
   ]
  },
  {
   "cell_type": "code",
   "execution_count": 16,
   "metadata": {},
   "outputs": [
    {
     "name": "stdout",
     "output_type": "stream",
     "text": [
      "Episode 100\tAverage Score: 0.03\n",
      "Episode 200\tAverage Score: 2.61\n",
      "Episode 300\tAverage Score: 6.56\n",
      "Episode 400\tAverage Score: 8.59\n",
      "Episode 500\tAverage Score: 11.31\n",
      "Episode 600\tAverage Score: 12.73\n",
      "Episode 700\tAverage Score: 13.28\n",
      "Episode 800\tAverage Score: 15.21\n",
      "Episode 900\tAverage Score: 14.55\n",
      "Episode 1000\tAverage Score: 14.96\n",
      "Episode 1100\tAverage Score: 16.00\n",
      "\n",
      "Environment solved in 1000 episodes!\tAverage Score: 16.00\n"
     ]
    },
    {
     "data": {
      "image/png": "[encoded data removed]",
      "text/plain": [
       "<matplotlib.figure.Figure at 0x7f8cc2ee6048>"
      ]
     },
     "metadata": {
      "needs_background": "light"
     },
     "output_type": "display_data"
    }
   ],
   "source": [
    "env_observation_space = 37\n",
    "env_action_space = 4\n",
    "\n",
    "agent = Agent(env_observation_space ,env_action_space, seed=0 )\n",
    "scores = dqn()\n",
    "# plot the scores\n",
    "fig = plt.figure()\n",
    "ax = fig.add_subplot(111)\n",
    "plt.plot(np.arange(len(scores)) , scores)\n",
    "\n",
    "plt.xlabel('Episodes')\n",
    "plt.ylabel('Scores')\n",
    "plt.show()"
   ]
  },
  {
   "cell_type": "code",
   "execution_count": null,
   "metadata": {},
   "outputs": [],
   "source": []
  },
  {
   "cell_type": "code",
   "execution_count": null,
   "metadata": {},
   "outputs": [],
   "source": []
  },
  {
   "cell_type": "code",
   "execution_count": null,
   "metadata": {},
   "outputs": [],
   "source": []
  },
  {
   "cell_type": "code",
   "execution_count": null,
   "metadata": {},
   "outputs": [],
   "source": []
  },
  {
   "cell_type": "code",
   "execution_count": null,
   "metadata": {},
   "outputs": [],
   "source": []
  }
 ],
 "metadata": {
  "kernelspec": {
   "display_name": "Python 3",
   "language": "python",
   "name": "python3"
  },
  "language_info": {
   "codemirror_mode": {
    "name": "ipython",
    "version": 3
   },
   "file_extension": ".py",
   "mimetype": "text/x-python",
   "name": "python",
   "nbconvert_exporter": "python",
   "pygments_lexer": "ipython3",
   "version": "3.6.3"
  }
 },
 "nbformat": 4,
 "nbformat_minor": 2
}
